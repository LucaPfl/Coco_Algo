{
 "cells": [
  {
   "cell_type": "code",
   "execution_count": 4,
   "metadata": {},
   "outputs": [],
   "source": [
    "import numpy as np\n",
    "import pandas as pd\n",
    "from Preprocessing.evaluation_function import search_moving_average\n"
   ]
  },
  {
   "cell_type": "code",
   "execution_count": 5,
   "metadata": {},
   "outputs": [],
   "source": [
    "#datapath = r\\\"K:/EWB_070_Steam_Tech/011_measurements/Coco_Read_In\\MeasITtest_0.csv\"\n",
    "datapath = r\"K:\\EWB_070_Steam_Tech\\011_measurements\\Coco_Read_In\\MeasITtest_0.csv\"\n",
    "\n",
    "df = pd.read_csv(datapath,delimiter=';',  on_bad_lines='skip') #delimiter='\\t',"
   ]
  },
  {
   "cell_type": "code",
   "execution_count": 13,
   "metadata": {},
   "outputs": [
    {
     "name": "stdout",
     "output_type": "stream",
     "text": [
      "0     NaN\n",
      "1     NaN\n",
      "2     NaN\n",
      "3     NaN\n",
      "4     NaN\n",
      "       ..\n",
      "119   NaN\n",
      "120   NaN\n",
      "121   NaN\n",
      "122   NaN\n",
      "123   NaN\n",
      "Name: DoorLatch_Cavity1, Length: 124, dtype: float64\n"
     ]
    }
   ],
   "source": [
    "print(df['DoorLatch_Cavity1'])"
   ]
  },
  {
   "cell_type": "code",
   "execution_count": 14,
   "metadata": {},
   "outputs": [
    {
     "data": {
      "text/plain": [
       "<bound method NDFrame.head of                timestamp  DoorLatch_Cavity1  DoorSwitch_Cavity1  \\\n",
       "0    05.11.2024 11:08:04                NaN                   1   \n",
       "1    05.11.2024 11:08:06                NaN                   1   \n",
       "2    05.11.2024 11:08:07                NaN                   1   \n",
       "3    05.11.2024 11:08:08                NaN                   1   \n",
       "4    05.11.2024 11:08:10                NaN                   1   \n",
       "..                   ...                ...                 ...   \n",
       "119  05.11.2024 11:10:40                NaN                   1   \n",
       "120  05.11.2024 11:10:41                NaN                   1   \n",
       "121  05.11.2024 11:10:43                NaN                   1   \n",
       "122  05.11.2024 11:10:44                NaN                   1   \n",
       "123  05.11.2024 11:10:45                NaN                   1   \n",
       "\n",
       "    ErrorRunTime_CPM1  ErrorRunTime_LaM  ErrorRunTime_StM  \\\n",
       "0    FFFFFFFFFFFFFFFF  FFFFFFFFFFFFFFFF  FFFFFFFFFFFFFFFF   \n",
       "1    FFFFFFFFFFFFFFFF  FFFFFFFFFFFFFFFF  FFFFFFFFFFFFFFFF   \n",
       "2    FFFFFFFFFFFFFFFF  FFFFFFFFFFFFFFFF  FFFFFFFFFFFFFFFF   \n",
       "3    FFFFFFFFFFFFFFFF  FFFFFFFFFFFFFFFF  FFFFFFFFFFFFFFFF   \n",
       "4    FFFFFFFFFFFFFFFF  FFFFFFFFFFFFFFFF  FFFFFFFFFFFFFFFF   \n",
       "..                ...               ...               ...   \n",
       "119  FFFFFFFFFFFFFFFF  FFFFFFFFFFFFFFFF  FFFFFFFFFFFFFFFF   \n",
       "120  FFFFFFFFFFFFFFFF  FFFFFFFFFFFFFFFF  FFFFFFFFFFFFFFFF   \n",
       "121  FFFFFFFFFFFFFFFF  FFFFFFFFFFFFFFFF  FFFFFFFFFFFFFFFF   \n",
       "122  FFFFFFFFFFFFFFFF  FFFFFFFFFFFFFFFF  FFFFFFFFFFFFFFFF   \n",
       "123  FFFFFFFFFFFFFFFF  FFFFFFFFFFFFFFFF  FFFFFFFFFFFFFFFF   \n",
       "\n",
       "     Send_FanControl_IPM  Send_HotAirFan_Current  Send_HotAirFan_Error  \\\n",
       "0                    NaN                     NaN                   NaN   \n",
       "1                    NaN                     NaN                   NaN   \n",
       "2                    NaN                     NaN                   NaN   \n",
       "3                    NaN                     NaN                   NaN   \n",
       "4                    NaN                     NaN                   NaN   \n",
       "..                   ...                     ...                   ...   \n",
       "119                  NaN                    26.0                   0.0   \n",
       "120                  NaN                    26.0                   0.0   \n",
       "121                  NaN                    26.0                   0.0   \n",
       "122                  NaN                    26.0                   0.0   \n",
       "123                  NaN                    26.0                   0.0   \n",
       "\n",
       "     Send_HotAirFan_HW  ... StM_SapiLevelPos1  StM_AddedSteamLevel  \\\n",
       "0                  NaN  ...                54                    0   \n",
       "1                  NaN  ...                54                    0   \n",
       "2                  NaN  ...                54                    0   \n",
       "3                  NaN  ...                55                    0   \n",
       "4                  NaN  ...                54                    0   \n",
       "..                 ...  ...               ...                  ...   \n",
       "119                0.0  ...                55                    0   \n",
       "120                0.0  ...                55                    0   \n",
       "121                0.0  ...                55                    0   \n",
       "122                0.0  ...                54                    0   \n",
       "123                0.0  ...                54                    0   \n",
       "\n",
       "     StM_OxygenTargetValue  StM_OxygenReductionTargetValue  \\\n",
       "0                     25,5                               0   \n",
       "1                     25,5                               0   \n",
       "2                     25,5                               0   \n",
       "3                     25,5                               0   \n",
       "4                     25,5                               0   \n",
       "..                     ...                             ...   \n",
       "119                   25,5                               0   \n",
       "120                   25,5                               0   \n",
       "121                   25,5                               0   \n",
       "122                   25,5                               0   \n",
       "123                   25,5                               0   \n",
       "\n",
       "     StM_OxygenControlTargetValue  StM_OxygenActiveVapourTargetValue  \\\n",
       "0                             0,0                                0,0   \n",
       "1                             0,0                                0,0   \n",
       "2                             0,0                                0,0   \n",
       "3                             0,0                                0,0   \n",
       "4                             0,0                                0,0   \n",
       "..                            ...                                ...   \n",
       "119                           0,0                                0,0   \n",
       "120                           0,0                                0,0   \n",
       "121                           0,0                                0,0   \n",
       "122                           0,0                                0,0   \n",
       "123                           0,0                                0,0   \n",
       "\n",
       "     StM_EFastValue  StM_ErrorActiveCoCo  StM_EFastValue.1  Write_POCS_Cavity1  \n",
       "0                 0                    0                 0                 NaN  \n",
       "1                 0                    0                 0                 NaN  \n",
       "2                 0                    0                 0                 NaN  \n",
       "3                 0                    0                 0                 NaN  \n",
       "4                 0                    0                 0                 NaN  \n",
       "..              ...                  ...               ...                 ...  \n",
       "119               0                    0                 0                 NaN  \n",
       "120               0                    0                 0                 NaN  \n",
       "121               0                    0                 0                 NaN  \n",
       "122               0                    0                 0                 NaN  \n",
       "123               0                    0                 0                 NaN  \n",
       "\n",
       "[124 rows x 117 columns]>"
      ]
     },
     "execution_count": 14,
     "metadata": {},
     "output_type": "execute_result"
    }
   ],
   "source": [
    "df.head"
   ]
  },
  {
   "cell_type": "code",
   "execution_count": 9,
   "metadata": {},
   "outputs": [
    {
     "ename": "SyntaxError",
     "evalue": "'continue' not properly in loop (3881619761.py, line 30)",
     "output_type": "error",
     "traceback": [
      "\u001b[1;36m  Cell \u001b[1;32mIn[9], line 30\u001b[1;36m\u001b[0m\n\u001b[1;33m    continue\u001b[0m\n\u001b[1;37m    ^\u001b[0m\n\u001b[1;31mSyntaxError\u001b[0m\u001b[1;31m:\u001b[0m 'continue' not properly in loop\n"
     ]
    }
   ],
   "source": [
    "from Preprocessing.evaluation_function import search_moving_average\n",
    "from Preprocessing.Filter_Routines import preprocess_with_period_filter2\n",
    "from Preprocessing.preprocessing_function import cut_BLDC_data_b,cut_BLDC_data,resample_BLDC_data, cStaticVariables,Filter_Accumulated_Average, temperature_comp, get_nom_speed\n",
    "\n",
    "df = pd.read_csv(datapath,delimiter=';',  on_bad_lines='skip')\n",
    "motor_sample_rate=1\n",
    "temperature_compensation=False\n",
    "min_samples=500 // motor_sample_rate # \"minimum time\" start of evaluation\n",
    "stop_signal=2 # amount of samples short > long\n",
    "samples_short=30*5 // motor_sample_rate#samples for short moving average\n",
    "samples_long=85*5 // motor_sample_rate #samples for long average\n",
    "acceptance_limit = {\n",
    "    \"power_min\": 2500, #minimum value of power consumption\n",
    "    \"speed_low\": 10, #rpm_nominal - value --> upper bound\n",
    "    \"speed_high\": 11640, #rpm\n",
    "    \"temp_min\":20, #Temp_Set_Point - value ---> lower bound\n",
    "        }\n",
    "\n",
    "\n",
    "df = cut_BLDC_data(df)\n",
    "# Offset Correction with Temp set point\n",
    "Temp_Minimum_Value=max(df['CPM1_TempSetPoint'])-acceptance_limit['temp_min']\n",
    "Clean_Power_Signal=Filter_Accumulated_Average(df,Temp_Minimum_Value,acceptance_limit,temperature_compensation)\n",
    "df[\"cps\"]=Clean_Power_Signal\n",
    "Clean_Power_Signal_C= np.trim_zeros(Clean_Power_Signal, 'f') #remove leading zeros\n",
    "\n",
    "if len(Clean_Power_Signal_C) == 0: #Check for sufficient data\n",
    "    print(': no power data or power data out of bounds')\n",
    "    raise ValueError('no power data or power data out of bounds')\n",
    "    \n",
    "\n",
    "#filter?\n",
    "y = np.array(Clean_Power_Signal_C)\n",
    "Clean_Power_Signal_Smooth = preprocess_with_period_filter2(y,lower_cutoff_threshold,filter_period,start_end_padding_enabled,padding_value,group_delay_compensation_enabled)\n",
    "\n",
    "#ma method\n",
    "end_sample_ma, end_flag = search_moving_average(Clean_Power_Signal_Smooth, min_samples, stop_signal, samples_short, samples_long)\n"
   ]
  },
  {
   "cell_type": "code",
   "execution_count": 1,
   "metadata": {},
   "outputs": [
    {
     "name": "stderr",
     "output_type": "stream",
     "text": [
      "Exception in thread Thread-5:\n",
      "Traceback (most recent call last):\n",
      "  File \"c:\\Programs\\Anaconda\\envs\\dataenv\\lib\\threading.py\", line 932, in _bootstrap_inner\n",
      "    self.run()\n",
      "  File \"c:\\Programs\\Anaconda\\envs\\dataenv\\lib\\threading.py\", line 870, in run\n",
      "    self._target(*self._args, **self._kwargs)\n",
      "  File \"C:\\Users\\Pflittner\\AppData\\Local\\Temp\\ipykernel_21148\\3387722296.py\", line 7, in reader\n",
      "NameError: name 'pd' is not defined\n"
     ]
    }
   ],
   "source": [
    "import tkinter as tk\n",
    "import threading\n",
    "from Preprocessing.evaluation_function import search_moving_average\n",
    "\n",
    "def reader():\n",
    "    while True:\n",
    "        df = pd.read_csv(datapath,delimiter=';',  on_bad_lines='skip')\n",
    "        \n",
    "        if(abbruchBedingung==True):\n",
    "            break\n",
    "        time.sleep(2) \n",
    "    \n",
    "    return stopTime\n",
    "\n",
    "root = tk.Tk()\n",
    "root.title(\"Coco_reader\")\n",
    "root.geometry(\"400x300\")  # Width x Height\n",
    "\n",
    "# Start the background thread\n",
    "thread1 = threading.Thread(target=reader, daemon=True)\n",
    "thread1.start()\n",
    "\n",
    "# Run the main event loop\n",
    "root.mainloop()"
   ]
  }
 ],
 "metadata": {
  "kernelspec": {
   "display_name": "datakernel",
   "language": "python",
   "name": "datakernel"
  },
  "language_info": {
   "codemirror_mode": {
    "name": "ipython",
    "version": 3
   },
   "file_extension": ".py",
   "mimetype": "text/x-python",
   "name": "python",
   "nbconvert_exporter": "python",
   "pygments_lexer": "ipython3",
   "version": "3.8.19"
  }
 },
 "nbformat": 4,
 "nbformat_minor": 2
}
